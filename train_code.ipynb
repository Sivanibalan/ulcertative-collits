{
 "cells": [
  {
   "cell_type": "code",
   "execution_count": null,
   "id": "e1181bf9-486d-4786-8802-9f782216d986",
   "metadata": {},
   "outputs": [],
   "source": [
    "import pandas as pd\n",
    "import numpy as np"
   ]
  },
  {
   "cell_type": "code",
   "execution_count": null,
   "id": "5ae5e55d-c1ce-49c5-bc25-fabd031f2419",
   "metadata": {},
   "outputs": [],
   "source": [
    "df = pd.read_csv(\"U-data.csv\")\n",
    "df"
   ]
  },
  {
   "cell_type": "code",
   "execution_count": 2,
   "id": "23a77da4-3153-4c0a-8cf8-22989ff0d6e6",
   "metadata": {},
   "outputs": [
    {
     "name": "stdout",
     "output_type": "stream",
     "text": [
      "Accuracy: 0.94\n",
      "Classification Report:\n",
      "              precision    recall  f1-score   support\n",
      "\n",
      "           0       0.85      0.90      0.88        52\n",
      "           1       0.97      0.95      0.96       148\n",
      "\n",
      "    accuracy                           0.94       200\n",
      "   macro avg       0.91      0.92      0.92       200\n",
      "weighted avg       0.94      0.94      0.94       200\n",
      "\n"
     ]
    },
    {
     "name": "stderr",
     "output_type": "stream",
     "text": [
      "C:\\Users\\user\\AppData\\Local\\Programs\\Python\\Python312\\Lib\\site-packages\\xgboost\\core.py:158: UserWarning: [12:39:14] WARNING: C:\\buildkite-agent\\builds\\buildkite-windows-cpu-autoscaling-group-i-0ed59c031377d09b8-1\\xgboost\\xgboost-ci-windows\\src\\learner.cc:740: \n",
      "Parameters: { \"use_label_encoder\" } are not used.\n",
      "\n",
      "  warnings.warn(smsg, UserWarning)\n"
     ]
    }
   ],
   "source": [
    "import pandas as pd\n",
    "import numpy as np\n",
    "from sklearn.model_selection import train_test_split\n",
    "from sklearn.preprocessing import LabelEncoder\n",
    "from sklearn.metrics import accuracy_score, classification_report\n",
    "from xgboost import XGBClassifier\n",
    "\n",
    "# Load the dataset\n",
    "df = pd.read_csv(\"U-data.csv\")\n",
    "\n",
    "# Encode categorical features\n",
    "encoder = LabelEncoder()\n",
    "categorical_columns = ['Dietary_Fiber_Intake', 'Physical_Activity_Level']\n",
    "for col in categorical_columns:\n",
    "    df[col] = encoder.fit_transform(df[col])\n",
    "\n",
    "# Define features and target\n",
    "X = df.drop(columns=['Ulcerative_Colitis'])\n",
    "y = df['Ulcerative_Colitis']\n",
    "\n",
    "# Split data into training and testing sets\n",
    "X_train, X_test, y_train, y_test = train_test_split(X, y, test_size=0.2, random_state=42, stratify=y)\n",
    "\n",
    "# Initialize the XGBoost model\n",
    "xgb_model = XGBClassifier(use_label_encoder=False, eval_metric='logloss')\n",
    "\n",
    "# Train the model\n",
    "xgb_model.fit(X_train, y_train)\n",
    "\n",
    "# Make predictions\n",
    "y_pred = xgb_model.predict(X_test)\n",
    "\n",
    "# Evaluate the model\n",
    "accuracy = accuracy_score(y_test, y_pred)\n",
    "print(f\"Accuracy: {accuracy:.2f}\")\n",
    "print(\"Classification Report:\")\n",
    "print(classification_report(y_test, y_pred))\n"
   ]
  },
  {
   "cell_type": "code",
   "execution_count": 3,
   "id": "4daf9af3-a62d-46c6-9008-6591cf13ec11",
   "metadata": {},
   "outputs": [],
   "source": [
    "import joblib\n",
    "\n",
    "# Save the model\n",
    "joblib.dump(xgb_model, 'xgb_ulcerative_colitis_model.pkl')\n",
    "\n",
    "# Load the model\n",
    "loaded_model = joblib.load('xgb_ulcerative_colitis_model.pkl')"
   ]
  },
  {
   "cell_type": "code",
   "execution_count": 5,
   "id": "8ec64321-57ce-4701-97ed-78c3f8c43fe4",
   "metadata": {},
   "outputs": [
    {
     "name": "stdout",
     "output_type": "stream",
     "text": [
      "Prediction: No Ulcerative Colitis\n"
     ]
    }
   ],
   "source": [
    "import joblib\n",
    "import pandas as pd\n",
    "from sklearn.preprocessing import LabelEncoder\n",
    "\n",
    "# Load the saved model\n",
    "model = joblib.load('xgb_ulcerative_colitis_model.pkl')\n",
    "\n",
    "# Initialize LabelEncoder\n",
    "encoder = LabelEncoder()\n",
    "encoder.fit([\"Low\", \"Moderate\", \"High\"])  # Match with training data categories\n",
    "\n",
    "# Classification key for the prediction\n",
    "classification_key = {\n",
    "    0: \"No Ulcerative Colitis\",\n",
    "    1: \"Ulcerative Colitis Detected\"\n",
    "}\n",
    "\n",
    "def preprocess_input(input_data, encoder):\n",
    "    \"\"\"\n",
    "    Preprocess input data to match the training data structure.\n",
    "    Args:\n",
    "        input_data (dict): Input data with keys as feature names.\n",
    "        encoder (LabelEncoder): Encoder for categorical variables.\n",
    "\n",
    "    Returns:\n",
    "        pd.DataFrame: Preprocessed input data.\n",
    "    \"\"\"\n",
    "    # Convert input dictionary to a DataFrame\n",
    "    input_df = pd.DataFrame([input_data])\n",
    "\n",
    "    # Encode categorical columns\n",
    "    for col in ['Dietary_Fiber_Intake', 'Physical_Activity_Level']:\n",
    "        input_df[col] = encoder.transform(input_df[col])\n",
    "\n",
    "    return input_df\n",
    "\n",
    "def predict_ulcerative_colitis(model, input_data, encoder, classification_key):\n",
    "    \"\"\"\n",
    "    Predict Ulcerative Colitis given the input features.\n",
    "\n",
    "    Args:\n",
    "        model: Trained XGBoost model.\n",
    "        input_data (dict): Input data with feature names as keys and their values.\n",
    "        encoder (LabelEncoder): Encoder for categorical variables.\n",
    "        classification_key (dict): Mapping of prediction output to human-readable classes.\n",
    "\n",
    "    Returns:\n",
    "        str: Human-readable prediction result.\n",
    "    \"\"\"\n",
    "    # Preprocess the input\n",
    "    processed_input = preprocess_input(input_data, encoder)\n",
    "    \n",
    "    # Make prediction\n",
    "    prediction = model.predict(processed_input)\n",
    "\n",
    "    # Return human-readable classification\n",
    "    return classification_key[int(prediction[0])]\n",
    "\n",
    "# Example Input\n",
    "input_data = {\n",
    "    \"Age\": 69,\n",
    "    \"Family_History\": 0,\n",
    "    \"BMI\": 25.69,\n",
    "    \"Smoking_History\": 0,\n",
    "    \"Dietary_Fiber_Intake\": \"Moderate\",\n",
    "    \"Physical_Activity_Level\": \"High\",\n",
    "    \"Stress_Level\": 7,\n",
    "    \"Medication_Use\": 1\n",
    "}\n",
    "\n",
    "# Make Prediction\n",
    "prediction = predict_ulcerative_colitis(model, input_data, encoder, classification_key)\n",
    "print(f\"Prediction: {prediction}\")"
   ]
  },
  {
   "cell_type": "code",
   "execution_count": null,
   "id": "e1a815e9-538b-4be2-a27f-5a1026a76f7d",
   "metadata": {},
   "outputs": [],
   "source": []
  }
 ],
 "metadata": {
  "kernelspec": {
   "display_name": "Python 3 (ipykernel)",
   "language": "python",
   "name": "python3"
  },
  "language_info": {
   "codemirror_mode": {
    "name": "ipython",
    "version": 3
   },
   "file_extension": ".py",
   "mimetype": "text/x-python",
   "name": "python",
   "nbconvert_exporter": "python",
   "pygments_lexer": "ipython3",
   "version": "3.12.0"
  }
 },
 "nbformat": 4,
 "nbformat_minor": 5
}
